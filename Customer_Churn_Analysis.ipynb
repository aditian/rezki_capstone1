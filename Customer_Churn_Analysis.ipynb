{
 "cells": [
  {
   "cell_type": "markdown",
   "metadata": {},
   "source": [
    "<br>\n",
    "\n",
    "<span style=\"font-size:2em;font-weight:bold\">Telco Customer Churn Analysis</span>\n",
    "\n",
    "In this exercise, we'll be creating a simple [Flask application](http://dachurn.herokuapp.com/) using Telco Customer Churn dataset retrieved from [IBM Cognos Analytic](https://community.ibm.com/community/user/businessanalytics/blogs/steven-macko/2019/07/11/telco-customer-churn-1113). Full data glossary can be accessed [here](https://github.com/ttnsy/dac-telco#dataset).\n",
    "\n",
    "This notebook contains guidances & tasks on the data processing for the application."
   ]
  },
  {
   "cell_type": "markdown",
   "metadata": {},
   "source": [
    "<span style=\"font-size:1.5em;font-weight:bold\">Libraries & Setup</span>:"
   ]
  },
  {
   "cell_type": "code",
   "execution_count": 1,
   "metadata": {
    "ExecuteTime": {
     "end_time": "2020-06-04T01:53:14.527730Z",
     "start_time": "2020-06-04T01:53:07.160943Z"
    }
   },
   "outputs": [],
   "source": [
    "import warnings\n",
    "warnings.filterwarnings('ignore')\n",
    "\n",
    "%matplotlib inline\n",
    "import pandas as pd\n",
    "import matplotlib.pyplot as plt\n",
    "import matplotlib.ticker as mtick"
   ]
  },
  {
   "cell_type": "markdown",
   "metadata": {},
   "source": [
    "# Load & Pre-process data\n",
    "\n",
    "Let's begin by reading our dataset in. The data will be using is `telcochurn.csv` which located under `data/` directory:"
   ]
  },
  {
   "cell_type": "code",
   "execution_count": 2,
   "metadata": {
    "ExecuteTime": {
     "end_time": "2020-06-04T01:53:14.724554Z",
     "start_time": "2020-06-04T01:53:14.535029Z"
    },
    "scrolled": true
   },
   "outputs": [
    {
     "data": {
      "text/html": [
       "<div>\n",
       "<style scoped>\n",
       "    .dataframe tbody tr th:only-of-type {\n",
       "        vertical-align: middle;\n",
       "    }\n",
       "\n",
       "    .dataframe tbody tr th {\n",
       "        vertical-align: top;\n",
       "    }\n",
       "\n",
       "    .dataframe thead th {\n",
       "        text-align: right;\n",
       "    }\n",
       "</style>\n",
       "<table border=\"1\" class=\"dataframe\">\n",
       "  <thead>\n",
       "    <tr style=\"text-align: right;\">\n",
       "      <th></th>\n",
       "      <th>customer_id</th>\n",
       "      <th>city</th>\n",
       "      <th>gender</th>\n",
       "      <th>senior_citizen</th>\n",
       "      <th>dependents</th>\n",
       "      <th>tenure_months</th>\n",
       "      <th>phone_service</th>\n",
       "      <th>internet_service</th>\n",
       "      <th>contract</th>\n",
       "      <th>monthly_charges</th>\n",
       "      <th>total_charges</th>\n",
       "      <th>churn_label</th>\n",
       "      <th>cltv</th>\n",
       "    </tr>\n",
       "  </thead>\n",
       "  <tbody>\n",
       "    <tr>\n",
       "      <th>0</th>\n",
       "      <td>3668-QPYBK</td>\n",
       "      <td>Los Angeles</td>\n",
       "      <td>Male</td>\n",
       "      <td>No</td>\n",
       "      <td>No</td>\n",
       "      <td>2</td>\n",
       "      <td>Single Line</td>\n",
       "      <td>DSL</td>\n",
       "      <td>Month-to-month</td>\n",
       "      <td>53.85</td>\n",
       "      <td>108.15</td>\n",
       "      <td>Yes</td>\n",
       "      <td>3239</td>\n",
       "    </tr>\n",
       "    <tr>\n",
       "      <th>1</th>\n",
       "      <td>9237-HQITU</td>\n",
       "      <td>Los Angeles</td>\n",
       "      <td>Female</td>\n",
       "      <td>No</td>\n",
       "      <td>Yes</td>\n",
       "      <td>2</td>\n",
       "      <td>Single Line</td>\n",
       "      <td>Fiber optic</td>\n",
       "      <td>Month-to-month</td>\n",
       "      <td>70.70</td>\n",
       "      <td>151.65</td>\n",
       "      <td>Yes</td>\n",
       "      <td>2701</td>\n",
       "    </tr>\n",
       "    <tr>\n",
       "      <th>2</th>\n",
       "      <td>9305-CDSKC</td>\n",
       "      <td>Los Angeles</td>\n",
       "      <td>Female</td>\n",
       "      <td>No</td>\n",
       "      <td>Yes</td>\n",
       "      <td>8</td>\n",
       "      <td>Multiple Lines</td>\n",
       "      <td>Fiber optic</td>\n",
       "      <td>Month-to-month</td>\n",
       "      <td>99.65</td>\n",
       "      <td>820.50</td>\n",
       "      <td>Yes</td>\n",
       "      <td>5372</td>\n",
       "    </tr>\n",
       "    <tr>\n",
       "      <th>3</th>\n",
       "      <td>7892-POOKP</td>\n",
       "      <td>Los Angeles</td>\n",
       "      <td>Female</td>\n",
       "      <td>No</td>\n",
       "      <td>Yes</td>\n",
       "      <td>28</td>\n",
       "      <td>Multiple Lines</td>\n",
       "      <td>Fiber optic</td>\n",
       "      <td>Month-to-month</td>\n",
       "      <td>104.80</td>\n",
       "      <td>3046.05</td>\n",
       "      <td>Yes</td>\n",
       "      <td>5003</td>\n",
       "    </tr>\n",
       "    <tr>\n",
       "      <th>4</th>\n",
       "      <td>0280-XJGEX</td>\n",
       "      <td>Los Angeles</td>\n",
       "      <td>Male</td>\n",
       "      <td>No</td>\n",
       "      <td>Yes</td>\n",
       "      <td>49</td>\n",
       "      <td>Multiple Lines</td>\n",
       "      <td>Fiber optic</td>\n",
       "      <td>Month-to-month</td>\n",
       "      <td>103.70</td>\n",
       "      <td>5036.30</td>\n",
       "      <td>Yes</td>\n",
       "      <td>5340</td>\n",
       "    </tr>\n",
       "  </tbody>\n",
       "</table>\n",
       "</div>"
      ],
      "text/plain": [
       "  customer_id         city  gender senior_citizen dependents  tenure_months  \\\n",
       "0  3668-QPYBK  Los Angeles    Male             No         No              2   \n",
       "1  9237-HQITU  Los Angeles  Female             No        Yes              2   \n",
       "2  9305-CDSKC  Los Angeles  Female             No        Yes              8   \n",
       "3  7892-POOKP  Los Angeles  Female             No        Yes             28   \n",
       "4  0280-XJGEX  Los Angeles    Male             No        Yes             49   \n",
       "\n",
       "    phone_service internet_service        contract  monthly_charges  \\\n",
       "0     Single Line              DSL  Month-to-month            53.85   \n",
       "1     Single Line      Fiber optic  Month-to-month            70.70   \n",
       "2  Multiple Lines      Fiber optic  Month-to-month            99.65   \n",
       "3  Multiple Lines      Fiber optic  Month-to-month           104.80   \n",
       "4  Multiple Lines      Fiber optic  Month-to-month           103.70   \n",
       "\n",
       "   total_charges churn_label  cltv  \n",
       "0         108.15         Yes  3239  \n",
       "1         151.65         Yes  2701  \n",
       "2         820.50         Yes  5372  \n",
       "3        3046.05         Yes  5003  \n",
       "4        5036.30         Yes  5340  "
      ]
     },
     "execution_count": 2,
     "metadata": {},
     "output_type": "execute_result"
    }
   ],
   "source": [
    "telco = pd.read_csv('data/telcochurn.csv')\n",
    "telco.head()"
   ]
  },
  {
   "cell_type": "markdown",
   "metadata": {},
   "source": [
    "A very common step on your exploratory process is to make sure that all your columns have stored in the right data types. In the following cell, use `dtypes` to acquire information of data type of each column:"
   ]
  },
  {
   "cell_type": "code",
   "execution_count": 3,
   "metadata": {
    "ExecuteTime": {
     "end_time": "2020-06-04T01:53:14.754477Z",
     "start_time": "2020-06-04T01:53:14.734529Z"
    }
   },
   "outputs": [
    {
     "data": {
      "text/plain": [
       "customer_id          object\n",
       "city                 object\n",
       "gender               object\n",
       "senior_citizen       object\n",
       "dependents           object\n",
       "tenure_months         int64\n",
       "phone_service        object\n",
       "internet_service     object\n",
       "contract             object\n",
       "monthly_charges     float64\n",
       "total_charges       float64\n",
       "churn_label          object\n",
       "cltv                  int64\n",
       "dtype: object"
      ]
     },
     "execution_count": 3,
     "metadata": {},
     "output_type": "execute_result"
    }
   ],
   "source": [
    "## Your code here\n",
    "telco.dtypes"
   ]
  },
  {
   "cell_type": "markdown",
   "metadata": {},
   "source": [
    "Notice that all categorical informations from the data were stored as `object` rather than `category`.\n",
    "\n",
    "## Adjust Data Types\n",
    "\n",
    "**Task 1**: Fill in the blank (`___`) part of the code below to cast all `object` to `category`:"
   ]
  },
  {
   "cell_type": "code",
   "execution_count": 4,
   "metadata": {
    "ExecuteTime": {
     "end_time": "2020-06-04T01:53:15.005235Z",
     "start_time": "2020-06-04T01:53:14.760684Z"
    }
   },
   "outputs": [
    {
     "data": {
      "text/plain": [
       "customer_id         category\n",
       "city                category\n",
       "gender              category\n",
       "senior_citizen      category\n",
       "dependents          category\n",
       "tenure_months          int64\n",
       "phone_service       category\n",
       "internet_service    category\n",
       "contract            category\n",
       "monthly_charges      float64\n",
       "total_charges        float64\n",
       "churn_label         category\n",
       "cltv                   int64\n",
       "dtype: object"
      ]
     },
     "execution_count": 4,
     "metadata": {},
     "output_type": "execute_result"
    }
   ],
   "source": [
    "catcol = telco.select_dtypes('object').columns\n",
    "telco[catcol] = telco[catcol].apply(lambda x: x.astype('category'))\n",
    "telco.dtypes"
   ]
  },
  {
   "cell_type": "markdown",
   "metadata": {},
   "source": [
    "## Categorize Tenure\n",
    "\n",
    "The `tenure_months` column indicates the total amount of months that the customer has been with the company by the end of the quarter. Your next task is to create a new column named `tenure_group` which categorize the tenure months by the following conditions:\n",
    "- **< 1 Year**: 12 tenure months and below\n",
    "- **1-2 Year**: More than 12 tenure months up until 24\n",
    "- **2-4 Year**: More than 24 tenure months up until 48\n",
    "- **4-5 Year**: More than 48 tenure months up until 60\n",
    "- **\\> 5 Year**: More than 60 tenure months\n",
    "\n",
    "**Task 2**: Fill in the blank (`___`) part to create the `tenure_group` column!"
   ]
  },
  {
   "cell_type": "code",
   "execution_count": 5,
   "metadata": {
    "ExecuteTime": {
     "end_time": "2020-06-04T01:53:16.830869Z",
     "start_time": "2020-06-04T01:53:15.010067Z"
    }
   },
   "outputs": [],
   "source": [
    "# Tenure Months to grouping categories\n",
    "def grouping_tenure(telco) :\n",
    "    if telco[\"tenure_months\"] <= 12 :\n",
    "        return \"< 1 Year\"\n",
    "    elif (telco[\"tenure_months\"] > 12) & (telco[\"tenure_months\"] <= 24 ):\n",
    "        return \"1-2 Year\"\n",
    "    elif (telco[\"tenure_months\"] > 24) & (telco[\"tenure_months\"] <= 48) :\n",
    "        return \"2-4 Year\"\n",
    "    elif (telco[\"tenure_months\"] > 48) & (telco[\"tenure_months\"] <= 60) :\n",
    "        return \"4-5 Year\"\n",
    "    else:\n",
    "        return \"> 5 Year\"\n",
    "\n",
    "telco[\"tenure_group\"] = telco.apply(lambda telco: grouping_tenure(telco), axis = 1) \n",
    "\n",
    "# Adjust category order\n",
    "tenure_group = [\"< 1 Year\", \"1-2 Year\", \"2-4 Year\", \"4-5 Year\", \"> 5 Year\"]\n",
    "telco[\"tenure_group\"] = pd.Categorical(telco[\"tenure_group\"], categories = tenure_group, ordered=True)"
   ]
  },
  {
   "cell_type": "markdown",
   "metadata": {},
   "source": [
    "## Wrap as Function\n",
    "\n",
    "Lastly, let's wrap the whole process above as a function named `load_telco()`. This process is essential because in your Flask application later, you will need to define all your data processing as specific functions. \n",
    "\n",
    "**Task 3**: Fill in the blank (`___`) part with the same process you have done previously to complete the function."
   ]
  },
  {
   "cell_type": "code",
   "execution_count": 6,
   "metadata": {
    "ExecuteTime": {
     "end_time": "2020-06-04T01:53:16.855718Z",
     "start_time": "2020-06-04T01:53:16.834735Z"
    }
   },
   "outputs": [],
   "source": [
    "def load_telco():\n",
    "    # Read data\n",
    "    telco = pd.read_csv('data/telcochurn.csv')\n",
    "    \n",
    "    # Adjust dtypes\n",
    "    catcol = telco.select_dtypes('object').columns\n",
    "    telco[catcol] = telco[catcol].apply(lambda x: x.astype('category'))\n",
    "    \n",
    "    # Tenure Months to grouping categories\n",
    "    def grouping_tenure(telco) :\n",
    "        if telco[\"tenure_months\"] <= 12 :\n",
    "            return \"< 1 Year\"\n",
    "        elif (telco[\"tenure_months\"] > 12) & (telco[\"tenure_months\"] <= 24 ):\n",
    "            return \"1-2 Year\"\n",
    "        elif (telco[\"tenure_months\"] > 24) & (telco[\"tenure_months\"] <= 48) :\n",
    "            return \"2-4 Year\"\n",
    "        elif (telco[\"tenure_months\"] > 48) & (telco[\"tenure_months\"] <= 60) :\n",
    "            return \"4-5 Year\"\n",
    "        else:\n",
    "            return \"> 5 Year\"\n",
    "\n",
    "    telco[\"tenure_group\"] = telco.apply(lambda telco: grouping_tenure(telco), axis = 1) \n",
    "\n",
    "    # Adjust category order\n",
    "    tenure_group = [\"< 1 Year\", \"1-2 Year\", \"2-4 Year\", \"4-5 Year\", \"> 5 Year\"]\n",
    "    telco[\"tenure_group\"] = pd.Categorical(telco[\"tenure_group\"], categories = tenure_group, ordered=True)\n",
    "    \n",
    "    return(telco)"
   ]
  },
  {
   "cell_type": "markdown",
   "metadata": {},
   "source": [
    "Congratulations, you have done the very first challenge of this capstone project!\n",
    "\n",
    "If you take a look at the project directory, you will find two separate scripts; `app.py` and `helper.py`. `app.py` handles the routing and within `helper.py` you would define function to be called in `app`.\n",
    "\n",
    "If you open up the `helper.py`, you will find all the functions needed to create the dashboard contents such as plots and data values. You may now copy the `load_telco()` function definition above and overwrite the existing function on the script and save it.\n",
    "\n",
    "In `app.py`, notice that there's a line of `data = load_telco()`. that you've save your function in separate python file/script, you can import the function to another script as the following:"
   ]
  },
  {
   "cell_type": "code",
   "execution_count": 7,
   "metadata": {
    "ExecuteTime": {
     "end_time": "2020-06-04T01:53:19.266147Z",
     "start_time": "2020-06-04T01:53:16.861703Z"
    }
   },
   "outputs": [
    {
     "data": {
      "text/html": [
       "<div>\n",
       "<style scoped>\n",
       "    .dataframe tbody tr th:only-of-type {\n",
       "        vertical-align: middle;\n",
       "    }\n",
       "\n",
       "    .dataframe tbody tr th {\n",
       "        vertical-align: top;\n",
       "    }\n",
       "\n",
       "    .dataframe thead th {\n",
       "        text-align: right;\n",
       "    }\n",
       "</style>\n",
       "<table border=\"1\" class=\"dataframe\">\n",
       "  <thead>\n",
       "    <tr style=\"text-align: right;\">\n",
       "      <th></th>\n",
       "      <th>customer_id</th>\n",
       "      <th>city</th>\n",
       "      <th>gender</th>\n",
       "      <th>senior_citizen</th>\n",
       "      <th>dependents</th>\n",
       "      <th>tenure_months</th>\n",
       "      <th>phone_service</th>\n",
       "      <th>internet_service</th>\n",
       "      <th>contract</th>\n",
       "      <th>monthly_charges</th>\n",
       "      <th>total_charges</th>\n",
       "      <th>churn_label</th>\n",
       "      <th>cltv</th>\n",
       "      <th>tenure_group</th>\n",
       "    </tr>\n",
       "  </thead>\n",
       "  <tbody>\n",
       "    <tr>\n",
       "      <th>0</th>\n",
       "      <td>3668-QPYBK</td>\n",
       "      <td>Los Angeles</td>\n",
       "      <td>Male</td>\n",
       "      <td>No</td>\n",
       "      <td>No</td>\n",
       "      <td>2</td>\n",
       "      <td>Single Line</td>\n",
       "      <td>DSL</td>\n",
       "      <td>Month-to-month</td>\n",
       "      <td>53.85</td>\n",
       "      <td>108.15</td>\n",
       "      <td>Yes</td>\n",
       "      <td>3239</td>\n",
       "      <td>&lt; 1 Year</td>\n",
       "    </tr>\n",
       "    <tr>\n",
       "      <th>1</th>\n",
       "      <td>9237-HQITU</td>\n",
       "      <td>Los Angeles</td>\n",
       "      <td>Female</td>\n",
       "      <td>No</td>\n",
       "      <td>Yes</td>\n",
       "      <td>2</td>\n",
       "      <td>Single Line</td>\n",
       "      <td>Fiber optic</td>\n",
       "      <td>Month-to-month</td>\n",
       "      <td>70.70</td>\n",
       "      <td>151.65</td>\n",
       "      <td>Yes</td>\n",
       "      <td>2701</td>\n",
       "      <td>&lt; 1 Year</td>\n",
       "    </tr>\n",
       "    <tr>\n",
       "      <th>2</th>\n",
       "      <td>9305-CDSKC</td>\n",
       "      <td>Los Angeles</td>\n",
       "      <td>Female</td>\n",
       "      <td>No</td>\n",
       "      <td>Yes</td>\n",
       "      <td>8</td>\n",
       "      <td>Multiple Lines</td>\n",
       "      <td>Fiber optic</td>\n",
       "      <td>Month-to-month</td>\n",
       "      <td>99.65</td>\n",
       "      <td>820.50</td>\n",
       "      <td>Yes</td>\n",
       "      <td>5372</td>\n",
       "      <td>&lt; 1 Year</td>\n",
       "    </tr>\n",
       "    <tr>\n",
       "      <th>3</th>\n",
       "      <td>7892-POOKP</td>\n",
       "      <td>Los Angeles</td>\n",
       "      <td>Female</td>\n",
       "      <td>No</td>\n",
       "      <td>Yes</td>\n",
       "      <td>28</td>\n",
       "      <td>Multiple Lines</td>\n",
       "      <td>Fiber optic</td>\n",
       "      <td>Month-to-month</td>\n",
       "      <td>104.80</td>\n",
       "      <td>3046.05</td>\n",
       "      <td>Yes</td>\n",
       "      <td>5003</td>\n",
       "      <td>2-4 Year</td>\n",
       "    </tr>\n",
       "    <tr>\n",
       "      <th>4</th>\n",
       "      <td>0280-XJGEX</td>\n",
       "      <td>Los Angeles</td>\n",
       "      <td>Male</td>\n",
       "      <td>No</td>\n",
       "      <td>Yes</td>\n",
       "      <td>49</td>\n",
       "      <td>Multiple Lines</td>\n",
       "      <td>Fiber optic</td>\n",
       "      <td>Month-to-month</td>\n",
       "      <td>103.70</td>\n",
       "      <td>5036.30</td>\n",
       "      <td>Yes</td>\n",
       "      <td>5340</td>\n",
       "      <td>4-5 Year</td>\n",
       "    </tr>\n",
       "  </tbody>\n",
       "</table>\n",
       "</div>"
      ],
      "text/plain": [
       "  customer_id         city  gender senior_citizen dependents  tenure_months  \\\n",
       "0  3668-QPYBK  Los Angeles    Male             No         No              2   \n",
       "1  9237-HQITU  Los Angeles  Female             No        Yes              2   \n",
       "2  9305-CDSKC  Los Angeles  Female             No        Yes              8   \n",
       "3  7892-POOKP  Los Angeles  Female             No        Yes             28   \n",
       "4  0280-XJGEX  Los Angeles    Male             No        Yes             49   \n",
       "\n",
       "    phone_service internet_service        contract  monthly_charges  \\\n",
       "0     Single Line              DSL  Month-to-month            53.85   \n",
       "1     Single Line      Fiber optic  Month-to-month            70.70   \n",
       "2  Multiple Lines      Fiber optic  Month-to-month            99.65   \n",
       "3  Multiple Lines      Fiber optic  Month-to-month           104.80   \n",
       "4  Multiple Lines      Fiber optic  Month-to-month           103.70   \n",
       "\n",
       "   total_charges churn_label  cltv tenure_group  \n",
       "0         108.15         Yes  3239     < 1 Year  \n",
       "1         151.65         Yes  2701     < 1 Year  \n",
       "2         820.50         Yes  5372     < 1 Year  \n",
       "3        3046.05         Yes  5003     2-4 Year  \n",
       "4        5036.30         Yes  5340     4-5 Year  "
      ]
     },
     "execution_count": 7,
     "metadata": {},
     "output_type": "execute_result"
    }
   ],
   "source": [
    "from helper import load_telco\n",
    "\n",
    "data = load_telco()\n",
    "data.head()"
   ]
  },
  {
   "cell_type": "markdown",
   "metadata": {},
   "source": [
    "<span style=\"font-size:2em;font-weight:bold\">Data Wrangling & Visualization</span>\n",
    "\n",
    "Now that you're data is ready, we're now ready to prepare the explanatory data in our dashboard!\n",
    "\n",
    "Within `app.py` you will see the `index()` function will return a rendered templates along with some variables:\n",
    "- `card_data`: quick summary including **Customer Churn Rate**, **Retaining Customer** & **Average Lifetime Value**\n",
    "- `plot_tenure_churn`: **Churn Rate by Tenure Group** plot in **Customer Tenure** tab\n",
    "- `plot_tenure_cltv`: **Average Lifetime Value by Tenure** plot in **Customer Tenure** tab\n",
    "- `plot_phone`: **Phone Service Customer** plot in **Subscription Service** tab\n",
    "- `plot_internet`: **Internet Service Customer** plot in **Subscription Service** tab\n",
    "\n",
    "The values and plots above were resulted from all EDA techniques you have learned in the pervious workshops. Your next challenge is to recall how to use pandas subsetting method, aggregation tables and simple visualization!\n"
   ]
  },
  {
   "cell_type": "markdown",
   "metadata": {},
   "source": [
    "# Extract Quick Summary\n",
    "\n",
    "Let's acquire the needed information for the quick summary in `card_data`. There are 3 values you need to extract:\n",
    "- **Customer Churn Rate**: The percentage of churn customers (`churn_label` = Yes in `churn_label`)  \n",
    "- **Retaining Customer**: The percentage of retaining customers (`churn_label` = No in `churn_label`)  \n",
    "- **Average Lifetime Value**: Average customer lifetime value (`cltv`)\n",
    "\n",
    "## Churn & Retaining Percentage\n",
    "**Task 4**: Fill in the blank (`___`) part of the code below to create a proportion table of Churn & Retaining customer!"
   ]
  },
  {
   "cell_type": "code",
   "execution_count": 8,
   "metadata": {
    "ExecuteTime": {
     "end_time": "2020-06-04T01:53:19.393820Z",
     "start_time": "2020-06-04T01:53:19.273103Z"
    },
    "scrolled": true
   },
   "outputs": [
    {
     "data": {
      "text/html": [
       "<div>\n",
       "<style scoped>\n",
       "    .dataframe tbody tr th:only-of-type {\n",
       "        vertical-align: middle;\n",
       "    }\n",
       "\n",
       "    .dataframe tbody tr th {\n",
       "        vertical-align: top;\n",
       "    }\n",
       "\n",
       "    .dataframe thead th {\n",
       "        text-align: right;\n",
       "    }\n",
       "</style>\n",
       "<table border=\"1\" class=\"dataframe\">\n",
       "  <thead>\n",
       "    <tr style=\"text-align: right;\">\n",
       "      <th>col_0</th>\n",
       "      <th>percent</th>\n",
       "    </tr>\n",
       "    <tr>\n",
       "      <th>churn_label</th>\n",
       "      <th></th>\n",
       "    </tr>\n",
       "  </thead>\n",
       "  <tbody>\n",
       "    <tr>\n",
       "      <th>No</th>\n",
       "      <td>73.463013</td>\n",
       "    </tr>\n",
       "    <tr>\n",
       "      <th>Yes</th>\n",
       "      <td>26.536987</td>\n",
       "    </tr>\n",
       "  </tbody>\n",
       "</table>\n",
       "</div>"
      ],
      "text/plain": [
       "col_0          percent\n",
       "churn_label           \n",
       "No           73.463013\n",
       "Yes          26.536987"
      ]
     },
     "execution_count": 8,
     "metadata": {},
     "output_type": "execute_result"
    }
   ],
   "source": [
    "table = pd.crosstab(\n",
    "    data['churn_label'],\n",
    "    columns = 'percent',\n",
    "    normalize = True\n",
    ")*100\n",
    "\n",
    "table"
   ]
  },
  {
   "cell_type": "markdown",
   "metadata": {},
   "source": [
    "We can extract the value from our table by using `.loc[]` subsetting method. \n",
    "\n",
    "**Task 5**: Fill in the blank (`___`) part to extract the information of churned customer!"
   ]
  },
  {
   "cell_type": "code",
   "execution_count": 9,
   "metadata": {
    "ExecuteTime": {
     "end_time": "2020-06-04T01:53:19.498115Z",
     "start_time": "2020-06-04T01:53:19.402196Z"
    }
   },
   "outputs": [
    {
     "data": {
      "text/plain": [
       "'26.54%'"
      ]
     },
     "execution_count": 9,
     "metadata": {},
     "output_type": "execute_result"
    }
   ],
   "source": [
    "percent_churn = table.loc['Yes', 'percent'].round(2)\n",
    "\n",
    "f'{percent_churn}%'"
   ]
  },
  {
   "cell_type": "markdown",
   "metadata": {},
   "source": [
    "**Task 6**: Use the same method as above to also extract the information of retaining customer!"
   ]
  },
  {
   "cell_type": "code",
   "execution_count": 10,
   "metadata": {
    "ExecuteTime": {
     "end_time": "2020-06-04T01:53:19.624455Z",
     "start_time": "2020-06-04T01:53:19.503074Z"
    }
   },
   "outputs": [
    {
     "data": {
      "text/plain": [
       "'73.46%'"
      ]
     },
     "execution_count": 10,
     "metadata": {},
     "output_type": "execute_result"
    }
   ],
   "source": [
    "percent_retain = table.loc['No', 'percent'].round(2)\n",
    "\n",
    "f'{percent_retain}%'"
   ]
  },
  {
   "cell_type": "markdown",
   "metadata": {},
   "source": [
    "## Average Lifetime Value\n",
    "\n",
    "**Task 7**: The average lifetime value stored the average (`mean`) value of `cltv` variable. Extract the value on the cell code below!"
   ]
  },
  {
   "cell_type": "code",
   "execution_count": 11,
   "metadata": {
    "ExecuteTime": {
     "end_time": "2020-06-04T01:53:19.750461Z",
     "start_time": "2020-06-04T01:53:19.634421Z"
    }
   },
   "outputs": [
    {
     "data": {
      "text/plain": [
       "4400.295754650007"
      ]
     },
     "execution_count": 11,
     "metadata": {},
     "output_type": "execute_result"
    }
   ],
   "source": [
    "## Your code here\n",
    "data['cltv'].mean()\n"
   ]
  },
  {
   "cell_type": "markdown",
   "metadata": {},
   "source": [
    "<span style=\"font-size:1.5em;font-weight:bold\">Update the application scripts!</span>"
   ]
  },
  {
   "cell_type": "markdown",
   "metadata": {},
   "source": [
    "Lastly, follow these instructions to complete the next part of your application scripts:\n",
    "- **On helper.py:**\n",
    "    - Use the code in **Task 4** to complete `table_churn()` function in helper.\n",
    "\n",
    "\n",
    "- **On app.py:**\n",
    "    - Add table_churn function when importing from helper.<br> (To import multiple functions, you can simply use comma such as: `from helper import load_telco, table_churn`)\n",
    "    - \"Uncomment\" the codes under `# generate value for cards` section then use the code in **Task 5** & **Task 6** to complete the blank (`___`) part of the line\n",
    "    - Lastly, in `render_template()` at the end of `index()` in `app.py`, change `card_data=None` to `card_data=card_data`"
   ]
  },
  {
   "cell_type": "code",
   "execution_count": 12,
   "metadata": {
    "ExecuteTime": {
     "end_time": "2020-06-04T01:53:19.931346Z",
     "start_time": "2020-06-04T01:53:19.758741Z"
    }
   },
   "outputs": [
    {
     "data": {
      "text/html": [
       "<div>\n",
       "<style scoped>\n",
       "    .dataframe tbody tr th:only-of-type {\n",
       "        vertical-align: middle;\n",
       "    }\n",
       "\n",
       "    .dataframe tbody tr th {\n",
       "        vertical-align: top;\n",
       "    }\n",
       "\n",
       "    .dataframe thead th {\n",
       "        text-align: right;\n",
       "    }\n",
       "</style>\n",
       "<table border=\"1\" class=\"dataframe\">\n",
       "  <thead>\n",
       "    <tr style=\"text-align: right;\">\n",
       "      <th>col_0</th>\n",
       "      <th>percent</th>\n",
       "    </tr>\n",
       "    <tr>\n",
       "      <th>churn_label</th>\n",
       "      <th></th>\n",
       "    </tr>\n",
       "  </thead>\n",
       "  <tbody>\n",
       "    <tr>\n",
       "      <th>No</th>\n",
       "      <td>73.463013</td>\n",
       "    </tr>\n",
       "    <tr>\n",
       "      <th>Yes</th>\n",
       "      <td>26.536987</td>\n",
       "    </tr>\n",
       "  </tbody>\n",
       "</table>\n",
       "</div>"
      ],
      "text/plain": [
       "col_0          percent\n",
       "churn_label           \n",
       "No           73.463013\n",
       "Yes          26.536987"
      ]
     },
     "execution_count": 12,
     "metadata": {},
     "output_type": "execute_result"
    }
   ],
   "source": [
    "from helper import table_churn\n",
    "\n",
    "churn = table_churn(data)\n",
    "churn"
   ]
  },
  {
   "cell_type": "markdown",
   "metadata": {},
   "source": [
    "# Generate Plot\n",
    "\n",
    "## Subscription Service\n",
    "\n",
    "The \"Subscription Service\" tab contains explanatory analysis on the proportion of churned-retained customers in each phone and internet service. There are two plots you need to recreate for this tab; **Phone Service Customer** and **Internet Service Customer**"
   ]
  },
  {
   "cell_type": "markdown",
   "metadata": {},
   "source": [
    "### Phone Service Customer\n",
    "\n",
    "The Phone Service Customer plot compares the frequency proportion of churned and retained customers in each service of the phone subscription.\n",
    "\n",
    "If you use `data['phone_service'].unique()`, you'll find that apparently there are two phone services offered by the company; `Single Line` and `Multiple Lines`while `No` means the particular customer is not subscribed to the company's phone service."
   ]
  },
  {
   "cell_type": "code",
   "execution_count": 13,
   "metadata": {
    "ExecuteTime": {
     "end_time": "2020-06-04T01:53:20.137369Z",
     "start_time": "2020-06-04T01:53:19.937328Z"
    }
   },
   "outputs": [
    {
     "data": {
      "text/plain": [
       "[Single Line, Multiple Lines, No]\n",
       "Categories (3, object): [Single Line, Multiple Lines, No]"
      ]
     },
     "execution_count": 13,
     "metadata": {},
     "output_type": "execute_result"
    }
   ],
   "source": [
    "## Your code here\n",
    "data['phone_service'].unique()"
   ]
  },
  {
   "cell_type": "markdown",
   "metadata": {},
   "source": [
    "**Task 8**:  \n",
    "Use `pd.crosstab()` to get the frequency proportion, then recall how to use `.plot(kind = 'barh')` to create a horizontal bar plot. You can also enhance the visualization such as adjusting the color by add the color parameter to your plot function call `.plot(kind = 'bar',color=['#53a4b1','#c34454'])`.\n",
    "\n",
    "For now, **do not mind the plot's customization** as you can copy-and-paste the codes defined under the `plot_phone()` function in `helper.py`."
   ]
  },
  {
   "cell_type": "code",
   "execution_count": 14,
   "metadata": {
    "ExecuteTime": {
     "end_time": "2020-06-04T01:53:20.449536Z",
     "start_time": "2020-06-04T01:53:20.149336Z"
    }
   },
   "outputs": [
    {
     "data": {
      "text/html": [
       "<div>\n",
       "<style scoped>\n",
       "    .dataframe tbody tr th:only-of-type {\n",
       "        vertical-align: middle;\n",
       "    }\n",
       "\n",
       "    .dataframe tbody tr th {\n",
       "        vertical-align: top;\n",
       "    }\n",
       "\n",
       "    .dataframe thead th {\n",
       "        text-align: right;\n",
       "    }\n",
       "</style>\n",
       "<table border=\"1\" class=\"dataframe\">\n",
       "  <thead>\n",
       "    <tr style=\"text-align: right;\">\n",
       "      <th>churn_label</th>\n",
       "      <th>No</th>\n",
       "      <th>Yes</th>\n",
       "    </tr>\n",
       "    <tr>\n",
       "      <th>phone_service</th>\n",
       "      <th></th>\n",
       "      <th></th>\n",
       "    </tr>\n",
       "  </thead>\n",
       "  <tbody>\n",
       "    <tr>\n",
       "      <th>Multiple Lines</th>\n",
       "      <td>30.115008</td>\n",
       "      <td>12.068721</td>\n",
       "    </tr>\n",
       "    <tr>\n",
       "      <th>No</th>\n",
       "      <td>7.269629</td>\n",
       "      <td>2.413744</td>\n",
       "    </tr>\n",
       "    <tr>\n",
       "      <th>Single Line</th>\n",
       "      <td>36.078376</td>\n",
       "      <td>12.054522</td>\n",
       "    </tr>\n",
       "  </tbody>\n",
       "</table>\n",
       "</div>"
      ],
      "text/plain": [
       "churn_label            No        Yes\n",
       "phone_service                       \n",
       "Multiple Lines  30.115008  12.068721\n",
       "No               7.269629   2.413744\n",
       "Single Line     36.078376  12.054522"
      ]
     },
     "execution_count": 14,
     "metadata": {},
     "output_type": "execute_result"
    }
   ],
   "source": [
    "## Your code here\n",
    "phone=pd.crosstab(\n",
    "    data['phone_service'],\n",
    "    columns =data['churn_label'],\n",
    "    normalize=True\n",
    ")*100\n",
    "phone"
   ]
  },
  {
   "cell_type": "code",
   "execution_count": 15,
   "metadata": {
    "ExecuteTime": {
     "end_time": "2020-06-04T01:53:21.537902Z",
     "start_time": "2020-06-04T01:53:20.462760Z"
    }
   },
   "outputs": [
    {
     "data": {
      "text/plain": [
       "Text(0.5, 1.0, 'Phone Service Customer')"
      ]
     },
     "execution_count": 15,
     "metadata": {},
     "output_type": "execute_result"
    },
    {
     "data": {
      "image/png": "[encoded data removed]",
      "text/plain": [
       "<Figure size 576x432 with 1 Axes>"
      ]
     },
     "metadata": {
      "needs_background": "light"
     },
     "output_type": "display_data"
    }
   ],
   "source": [
    "# Plot configuration\n",
    "ax = phone.plot(kind = 'barh', color=['#53a4b1','#c34454'], figsize = (8,6))\n",
    "\n",
    "ax.xaxis.set_major_formatter(mtick.PercentFormatter())\n",
    "plt.legend(['Retain', 'Churn'],fancybox=True,shadow=True)\n",
    "plt.axes().get_yaxis().set_label_text('')\n",
    "plt.title('Phone Service Customer')"
   ]
  },
  {
   "cell_type": "markdown",
   "metadata": {},
   "source": [
    "### Internet Service Customer"
   ]
  },
  {
   "cell_type": "markdown",
   "metadata": {},
   "source": [
    "**Task 9**:  \n",
    "Using the same steps as what you did on \"Phone Service Customer\" plot, except this time the plot should compare  the frequency proportion of churned and retained customers in each service of the internet subscription!"
   ]
  },
  {
   "cell_type": "code",
   "execution_count": 53,
   "metadata": {
    "ExecuteTime": {
     "end_time": "2020-06-04T02:47:52.119389Z",
     "start_time": "2020-06-04T02:47:52.051712Z"
    }
   },
   "outputs": [
    {
     "data": {
      "text/html": [
       "<div>\n",
       "<style scoped>\n",
       "    .dataframe tbody tr th:only-of-type {\n",
       "        vertical-align: middle;\n",
       "    }\n",
       "\n",
       "    .dataframe tbody tr th {\n",
       "        vertical-align: top;\n",
       "    }\n",
       "\n",
       "    .dataframe thead th {\n",
       "        text-align: right;\n",
       "    }\n",
       "</style>\n",
       "<table border=\"1\" class=\"dataframe\">\n",
       "  <thead>\n",
       "    <tr style=\"text-align: right;\">\n",
       "      <th>churn_label</th>\n",
       "      <th>No</th>\n",
       "      <th>Yes</th>\n",
       "    </tr>\n",
       "    <tr>\n",
       "      <th>internet_service</th>\n",
       "      <th></th>\n",
       "      <th></th>\n",
       "    </tr>\n",
       "  </thead>\n",
       "  <tbody>\n",
       "    <tr>\n",
       "      <th>DSL</th>\n",
       "      <td>27.857447</td>\n",
       "      <td>6.517109</td>\n",
       "    </tr>\n",
       "    <tr>\n",
       "      <th>Fiber optic</th>\n",
       "      <td>25.543092</td>\n",
       "      <td>18.415448</td>\n",
       "    </tr>\n",
       "    <tr>\n",
       "      <th>No</th>\n",
       "      <td>20.062473</td>\n",
       "      <td>1.604430</td>\n",
       "    </tr>\n",
       "  </tbody>\n",
       "</table>\n",
       "</div>"
      ],
      "text/plain": [
       "churn_label              No        Yes\n",
       "internet_service                      \n",
       "DSL               27.857447   6.517109\n",
       "Fiber optic       25.543092  18.415448\n",
       "No                20.062473   1.604430"
      ]
     },
     "execution_count": 53,
     "metadata": {},
     "output_type": "execute_result"
    }
   ],
   "source": [
    "## Your code here\n",
    "internet=pd.crosstab(\n",
    "    data['internet_service'],\n",
    "    columns =data['churn_label'],\n",
    "    normalize=True\n",
    ")*100\n",
    "internet"
   ]
  },
  {
   "cell_type": "code",
   "execution_count": 54,
   "metadata": {
    "ExecuteTime": {
     "end_time": "2020-06-04T02:47:55.023756Z",
     "start_time": "2020-06-04T02:47:54.524603Z"
    }
   },
   "outputs": [
    {
     "data": {
      "text/plain": [
       "Text(0.5, 1.0, 'Internet Service Customer')"
      ]
     },
     "execution_count": 54,
     "metadata": {},
     "output_type": "execute_result"
    },
    {
     "data": {
      "image/png": "[encoded data removed]",
      "text/plain": [
       "<Figure size 576x432 with 1 Axes>"
      ]
     },
     "metadata": {
      "needs_background": "light"
     },
     "output_type": "display_data"
    }
   ],
   "source": [
    "    ax = internet.plot(kind = 'barh', color=['#53a4b1','#c34454'], figsize = (8,6))\n",
    "\n",
    "    # Plot Configuration\n",
    "    ax.xaxis.set_major_formatter(mtick.PercentFormatter())\n",
    "    plt.legend(['Retain', 'Churn'],fancybox=True,shadow=True)\n",
    "    plt.axes().get_yaxis().set_label_text('')\n",
    "    plt.title('Internet Service Customer')"
   ]
  },
  {
   "cell_type": "markdown",
   "metadata": {},
   "source": [
    "## Customer Tenure\n",
    "\n",
    "The \"Customer Tenure\" tab contains explanatory analysis on how the tenure varies in churned and retained customers. There are two plots you need to recreate for this tab; **Churn Rate by Tenure Group** and **Average Lifetime Value by Tenure**\n",
    "\n",
    "### Churn Rate by Tenure Group\n",
    "\n",
    "**Task 10**:  \n",
    "The Churn Rate by Tenure Group plot compares the frequency proportion of churned and retained customers in each tenure group.\n",
    "\n",
    "You can start by create the frequency table for the visualization. Since we'll separate the bars by the `churn_label`, you'll have to create a data frame that has the `tenure_group` as row index and the values (Yes & No) of `churn label` as column."
   ]
  },
  {
   "cell_type": "code",
   "execution_count": 18,
   "metadata": {
    "ExecuteTime": {
     "end_time": "2020-06-04T01:53:22.113404Z",
     "start_time": "2020-06-04T01:53:22.038238Z"
    }
   },
   "outputs": [
    {
     "data": {
      "text/html": [
       "<div>\n",
       "<style scoped>\n",
       "    .dataframe tbody tr th:only-of-type {\n",
       "        vertical-align: middle;\n",
       "    }\n",
       "\n",
       "    .dataframe tbody tr th {\n",
       "        vertical-align: top;\n",
       "    }\n",
       "\n",
       "    .dataframe thead th {\n",
       "        text-align: right;\n",
       "    }\n",
       "</style>\n",
       "<table border=\"1\" class=\"dataframe\">\n",
       "  <thead>\n",
       "    <tr style=\"text-align: right;\">\n",
       "      <th>churn_label</th>\n",
       "      <th>No</th>\n",
       "      <th>Yes</th>\n",
       "    </tr>\n",
       "    <tr>\n",
       "      <th>tenure_group</th>\n",
       "      <th></th>\n",
       "      <th></th>\n",
       "    </tr>\n",
       "  </thead>\n",
       "  <tbody>\n",
       "    <tr>\n",
       "      <th>&lt; 1 Year</th>\n",
       "      <td>16.31</td>\n",
       "      <td>14.72</td>\n",
       "    </tr>\n",
       "    <tr>\n",
       "      <th>1-2 Year</th>\n",
       "      <td>10.36</td>\n",
       "      <td>4.17</td>\n",
       "    </tr>\n",
       "    <tr>\n",
       "      <th>2-4 Year</th>\n",
       "      <td>18.02</td>\n",
       "      <td>4.61</td>\n",
       "    </tr>\n",
       "    <tr>\n",
       "      <th>4-5 Year</th>\n",
       "      <td>10.11</td>\n",
       "      <td>1.70</td>\n",
       "    </tr>\n",
       "    <tr>\n",
       "      <th>&gt; 5 Year</th>\n",
       "      <td>18.66</td>\n",
       "      <td>1.32</td>\n",
       "    </tr>\n",
       "  </tbody>\n",
       "</table>\n",
       "</div>"
      ],
      "text/plain": [
       "churn_label      No    Yes\n",
       "tenure_group              \n",
       "< 1 Year      16.31  14.72\n",
       "1-2 Year      10.36   4.17\n",
       "2-4 Year      18.02   4.61\n",
       "4-5 Year      10.11   1.70\n",
       "> 5 Year      18.66   1.32"
      ]
     },
     "execution_count": 18,
     "metadata": {},
     "output_type": "execute_result"
    }
   ],
   "source": [
    "## Your code here\n",
    "tenure=pd.crosstab(\n",
    "    data['tenure_group'],\n",
    "    columns =data['churn_label'],\n",
    "    normalize=True\n",
    ").round(4)*100\n",
    "tenure"
   ]
  },
  {
   "cell_type": "code",
   "execution_count": 19,
   "metadata": {
    "ExecuteTime": {
     "end_time": "2020-06-04T01:53:22.517884Z",
     "start_time": "2020-06-04T01:53:22.117394Z"
    }
   },
   "outputs": [
    {
     "data": {
      "text/plain": [
       "Text(0.5, 1.0, 'Churn Rate by Tenure Group')"
      ]
     },
     "execution_count": 19,
     "metadata": {},
     "output_type": "execute_result"
    },
    {
     "data": {
      "image/png": "[encoded data removed]",
      "text/plain": [
       "<Figure size 576x432 with 1 Axes>"
      ]
     },
     "metadata": {
      "needs_background": "light"
     },
     "output_type": "display_data"
    }
   ],
   "source": [
    "ax = tenure.plot(kind = 'bar', color=['#53a4b1','#c34454'], figsize=(8, 6))\n",
    "\n",
    "# Plot Configuration\n",
    "ax.yaxis.set_major_formatter(mtick.PercentFormatter())\n",
    "plt.axes().get_xaxis().set_label_text('')\n",
    "plt.xticks(rotation = 360)\n",
    "plt.legend(['Retain', 'Churn'],fancybox=True,shadow=True)\n",
    "plt.title('Churn Rate by Tenure Group')"
   ]
  },
  {
   "cell_type": "markdown",
   "metadata": {},
   "source": [
    "Once your data is ready, recall how to use `.plot(kind = 'bar')` to create a bar plot. You can also enhance the visualization such as adjusting the color by add the color parameter to your plot function call `.plot(kind = 'bar',color=['#53a4b1','#c34454'])`.\n",
    "\n",
    "Again, **do not mind the plot's customization** as you can copy-and-paste the codes defined under the `plot_tenure_churn()` function in `helper.py`. "
   ]
  },
  {
   "cell_type": "markdown",
   "metadata": {},
   "source": [
    "### Average LTV by Tenure"
   ]
  },
  {
   "cell_type": "markdown",
   "metadata": {},
   "source": [
    "**Task 11**:  \n",
    "The last plot you need to recreate is the Average Lifetime Value by Tenure plot. This plot visualize how the average customer life time value varies in each tenure month, both in retained and churned customers. \n",
    "\n",
    "Let's start by aggregating our data. Since we want to plot two lines; one line of churned customer and the other for the retained customer, we need to create a dataframe that has the `tenure_months` as row index and the average (`mean`) `cltv` values of both No & Yes `churn_label` in columns as below:"
   ]
  },
  {
   "cell_type": "code",
   "execution_count": 20,
   "metadata": {
    "ExecuteTime": {
     "end_time": "2020-06-04T01:53:22.618063Z",
     "start_time": "2020-06-04T01:53:22.524254Z"
    }
   },
   "outputs": [
    {
     "data": {
      "text/html": [
       "<div>\n",
       "<style scoped>\n",
       "    .dataframe tbody tr th:only-of-type {\n",
       "        vertical-align: middle;\n",
       "    }\n",
       "\n",
       "    .dataframe tbody tr th {\n",
       "        vertical-align: top;\n",
       "    }\n",
       "\n",
       "    .dataframe thead th {\n",
       "        text-align: right;\n",
       "    }\n",
       "</style>\n",
       "<table border=\"1\" class=\"dataframe\">\n",
       "  <thead>\n",
       "    <tr style=\"text-align: right;\">\n",
       "      <th>churn_label</th>\n",
       "      <th>No</th>\n",
       "      <th>Yes</th>\n",
       "    </tr>\n",
       "    <tr>\n",
       "      <th>tenure_months</th>\n",
       "      <th></th>\n",
       "      <th></th>\n",
       "    </tr>\n",
       "  </thead>\n",
       "  <tbody>\n",
       "    <tr>\n",
       "      <th>0</th>\n",
       "      <td>3665.545455</td>\n",
       "      <td>NaN</td>\n",
       "    </tr>\n",
       "    <tr>\n",
       "      <th>1</th>\n",
       "      <td>3993.549356</td>\n",
       "      <td>4049.110526</td>\n",
       "    </tr>\n",
       "    <tr>\n",
       "      <th>2</th>\n",
       "      <td>4300.539130</td>\n",
       "      <td>4013.398374</td>\n",
       "    </tr>\n",
       "    <tr>\n",
       "      <th>3</th>\n",
       "      <td>4042.216981</td>\n",
       "      <td>3915.904255</td>\n",
       "    </tr>\n",
       "    <tr>\n",
       "      <th>4</th>\n",
       "      <td>3888.387097</td>\n",
       "      <td>4196.975904</td>\n",
       "    </tr>\n",
       "    <tr>\n",
       "      <th>...</th>\n",
       "      <td>...</td>\n",
       "      <td>...</td>\n",
       "    </tr>\n",
       "    <tr>\n",
       "      <th>68</th>\n",
       "      <td>5185.494505</td>\n",
       "      <td>5120.888889</td>\n",
       "    </tr>\n",
       "    <tr>\n",
       "      <th>69</th>\n",
       "      <td>5187.862069</td>\n",
       "      <td>5133.375000</td>\n",
       "    </tr>\n",
       "    <tr>\n",
       "      <th>70</th>\n",
       "      <td>5155.962963</td>\n",
       "      <td>5327.818182</td>\n",
       "    </tr>\n",
       "    <tr>\n",
       "      <th>71</th>\n",
       "      <td>5154.500000</td>\n",
       "      <td>4859.000000</td>\n",
       "    </tr>\n",
       "    <tr>\n",
       "      <th>72</th>\n",
       "      <td>5248.632022</td>\n",
       "      <td>4975.166667</td>\n",
       "    </tr>\n",
       "  </tbody>\n",
       "</table>\n",
       "<p>73 rows × 2 columns</p>\n",
       "</div>"
      ],
      "text/plain": [
       "churn_label             No          Yes\n",
       "tenure_months                          \n",
       "0              3665.545455          NaN\n",
       "1              3993.549356  4049.110526\n",
       "2              4300.539130  4013.398374\n",
       "3              4042.216981  3915.904255\n",
       "4              3888.387097  4196.975904\n",
       "...                    ...          ...\n",
       "68             5185.494505  5120.888889\n",
       "69             5187.862069  5133.375000\n",
       "70             5155.962963  5327.818182\n",
       "71             5154.500000  4859.000000\n",
       "72             5248.632022  4975.166667\n",
       "\n",
       "[73 rows x 2 columns]"
      ]
     },
     "execution_count": 20,
     "metadata": {},
     "output_type": "execute_result"
    }
   ],
   "source": [
    "cltv=pd.crosstab(\n",
    "    data['tenure_months'],\n",
    "    columns = data['churn_label'],\n",
    "    values = data['cltv'],\n",
    "    aggfunc= 'mean'\n",
    ")\n",
    "cltv"
   ]
  },
  {
   "cell_type": "markdown",
   "metadata": {},
   "source": [
    "Once your data is ready, recall how to use `.plot(kind = 'line')` to create a line plot. You can also enhance the visualization such as adjusting the color by add the color parameter to your plot function call `.plot(kind = 'bar',color=['#333333','#b3b3b3'])`.\n",
    "\n",
    "Once again, **do not mind the plot's customization** as you can copy-and-paste the codes defined under the `plot_tenure_cltv()` function in `helper.py`. "
   ]
  },
  {
   "cell_type": "code",
   "execution_count": 21,
   "metadata": {
    "ExecuteTime": {
     "end_time": "2020-06-04T01:53:23.345608Z",
     "start_time": "2020-06-04T01:53:22.623989Z"
    }
   },
   "outputs": [
    {
     "data": {
      "text/plain": [
       "Text(0.5, 1.0, 'Average Lifetime Value by Tenure')"
      ]
     },
     "execution_count": 21,
     "metadata": {},
     "output_type": "execute_result"
    },
    {
     "data": {
      "image/png": "[encoded data removed]",
      "text/plain": [
       "<Figure size 576x432 with 1 Axes>"
      ]
     },
     "metadata": {
      "needs_background": "light"
     },
     "output_type": "display_data"
    }
   ],
   "source": [
    "ax = cltv.plot(color=['#333333','#b3b3b3'], figsize=(8, 6),style = '.--')\n",
    "\n",
    "ax.yaxis.set_major_formatter(mtick.StrMethodFormatter('${x:,.0f}'))\n",
    "plt.axes().get_xaxis().set_label_text('Tenure (in Months)')\n",
    "plt.xticks(rotation = 360)\n",
    "plt.legend(['Retain', 'Churn'],fancybox=True,shadow=True)\n",
    "plt.title('Average Lifetime Value by Tenure')"
   ]
  },
  {
   "cell_type": "markdown",
   "metadata": {},
   "source": [
    "<span style=\"font-size:1.5em;font-weight:bold\">Update the application scripts!</span>\n",
    "\n",
    "Now that your plots are ready, it's time to move them to the dashboard!\n",
    "\n",
    "- **On helper.py**:\n",
    "    - Use the code on **Task 8-11** to complete the functions below:\n",
    "        - Task 8 --> `plot_phone()`\n",
    "        - Task 9 --> `plot_internet()`\n",
    "        - Task 10 --> `plot_tenure_churn()`\n",
    "        - Task 11 --> `plot_tenure_cltv()`\n",
    "        \n",
    "- **On app.py:**\n",
    "    - Now that all the functions are completed, you can call all functions from helper.py using the asterisk (\\*) symbol: `from helper import *` \n",
    "    - \"Uncomment\" the codes under `# generate plot` section to generate the plots\n",
    "    - Lastly, in `render_template()` at the end of `index()` in `app.py`, uncomment the remaining codes."
   ]
  },
  {
   "cell_type": "markdown",
   "metadata": {},
   "source": [
    "# Create-Your-Own Analysis => Customer Demographic\n",
    "\n",
    "We have prepared a Create-Your-Own tab on the apps where you can play around with the data frame and come up with your own analysis perspective. Don't forget to do the following steps:\n",
    "\n",
    "- Pass a variable onto the `render_template()` from `index()`\n",
    "- Create a separate function on `helper.py` for data wrangling and preprocessing, either returning a dataframe, simple value, or a plot to keep the `app.py` as clean as possible and easy to debug at later times\n",
    "- Edit the `index.html` to make sure it display your intended output on the page. You can copy-and-paste the skeleton from the other plots or values"
   ]
  },
  {
   "cell_type": "markdown",
   "metadata": {},
   "source": [
    "### Churn Rate by Demographic\n"
   ]
  },
  {
   "cell_type": "code",
   "execution_count": 176,
   "metadata": {
    "ExecuteTime": {
     "end_time": "2020-06-04T06:00:10.623144Z",
     "start_time": "2020-06-04T06:00:10.263350Z"
    }
   },
   "outputs": [
    {
     "data": {
      "text/html": [
       "<div>\n",
       "<style scoped>\n",
       "    .dataframe tbody tr th:only-of-type {\n",
       "        vertical-align: middle;\n",
       "    }\n",
       "\n",
       "    .dataframe tbody tr th {\n",
       "        vertical-align: top;\n",
       "    }\n",
       "\n",
       "    .dataframe thead th {\n",
       "        text-align: right;\n",
       "    }\n",
       "</style>\n",
       "<table border=\"1\" class=\"dataframe\">\n",
       "  <thead>\n",
       "    <tr style=\"text-align: right;\">\n",
       "      <th></th>\n",
       "      <th>customer_id</th>\n",
       "      <th>city</th>\n",
       "      <th>gender</th>\n",
       "      <th>senior_citizen</th>\n",
       "      <th>dependents</th>\n",
       "      <th>tenure_months</th>\n",
       "      <th>phone_service</th>\n",
       "      <th>internet_service</th>\n",
       "      <th>contract</th>\n",
       "      <th>monthly_charges</th>\n",
       "      <th>total_charges</th>\n",
       "      <th>churn_label</th>\n",
       "      <th>cltv</th>\n",
       "      <th>tenure_group</th>\n",
       "    </tr>\n",
       "  </thead>\n",
       "  <tbody>\n",
       "    <tr>\n",
       "      <th>0</th>\n",
       "      <td>3668-QPYBK</td>\n",
       "      <td>Los Angeles</td>\n",
       "      <td>Male</td>\n",
       "      <td>No</td>\n",
       "      <td>No</td>\n",
       "      <td>2</td>\n",
       "      <td>Single Line</td>\n",
       "      <td>DSL</td>\n",
       "      <td>Month-to-month</td>\n",
       "      <td>53.85</td>\n",
       "      <td>108.15</td>\n",
       "      <td>Yes</td>\n",
       "      <td>3239</td>\n",
       "      <td>&lt; 1 Year</td>\n",
       "    </tr>\n",
       "    <tr>\n",
       "      <th>1</th>\n",
       "      <td>9237-HQITU</td>\n",
       "      <td>Los Angeles</td>\n",
       "      <td>Female</td>\n",
       "      <td>No</td>\n",
       "      <td>Yes</td>\n",
       "      <td>2</td>\n",
       "      <td>Single Line</td>\n",
       "      <td>Fiber optic</td>\n",
       "      <td>Month-to-month</td>\n",
       "      <td>70.70</td>\n",
       "      <td>151.65</td>\n",
       "      <td>Yes</td>\n",
       "      <td>2701</td>\n",
       "      <td>&lt; 1 Year</td>\n",
       "    </tr>\n",
       "    <tr>\n",
       "      <th>2</th>\n",
       "      <td>9305-CDSKC</td>\n",
       "      <td>Los Angeles</td>\n",
       "      <td>Female</td>\n",
       "      <td>No</td>\n",
       "      <td>Yes</td>\n",
       "      <td>8</td>\n",
       "      <td>Multiple Lines</td>\n",
       "      <td>Fiber optic</td>\n",
       "      <td>Month-to-month</td>\n",
       "      <td>99.65</td>\n",
       "      <td>820.50</td>\n",
       "      <td>Yes</td>\n",
       "      <td>5372</td>\n",
       "      <td>&lt; 1 Year</td>\n",
       "    </tr>\n",
       "    <tr>\n",
       "      <th>3</th>\n",
       "      <td>7892-POOKP</td>\n",
       "      <td>Los Angeles</td>\n",
       "      <td>Female</td>\n",
       "      <td>No</td>\n",
       "      <td>Yes</td>\n",
       "      <td>28</td>\n",
       "      <td>Multiple Lines</td>\n",
       "      <td>Fiber optic</td>\n",
       "      <td>Month-to-month</td>\n",
       "      <td>104.80</td>\n",
       "      <td>3046.05</td>\n",
       "      <td>Yes</td>\n",
       "      <td>5003</td>\n",
       "      <td>2-4 Year</td>\n",
       "    </tr>\n",
       "    <tr>\n",
       "      <th>4</th>\n",
       "      <td>0280-XJGEX</td>\n",
       "      <td>Los Angeles</td>\n",
       "      <td>Male</td>\n",
       "      <td>No</td>\n",
       "      <td>Yes</td>\n",
       "      <td>49</td>\n",
       "      <td>Multiple Lines</td>\n",
       "      <td>Fiber optic</td>\n",
       "      <td>Month-to-month</td>\n",
       "      <td>103.70</td>\n",
       "      <td>5036.30</td>\n",
       "      <td>Yes</td>\n",
       "      <td>5340</td>\n",
       "      <td>4-5 Year</td>\n",
       "    </tr>\n",
       "    <tr>\n",
       "      <th>...</th>\n",
       "      <td>...</td>\n",
       "      <td>...</td>\n",
       "      <td>...</td>\n",
       "      <td>...</td>\n",
       "      <td>...</td>\n",
       "      <td>...</td>\n",
       "      <td>...</td>\n",
       "      <td>...</td>\n",
       "      <td>...</td>\n",
       "      <td>...</td>\n",
       "      <td>...</td>\n",
       "      <td>...</td>\n",
       "      <td>...</td>\n",
       "      <td>...</td>\n",
       "    </tr>\n",
       "    <tr>\n",
       "      <th>7038</th>\n",
       "      <td>2569-WGERO</td>\n",
       "      <td>Landers</td>\n",
       "      <td>Female</td>\n",
       "      <td>No</td>\n",
       "      <td>No</td>\n",
       "      <td>72</td>\n",
       "      <td>Single Line</td>\n",
       "      <td>No</td>\n",
       "      <td>Two year</td>\n",
       "      <td>21.15</td>\n",
       "      <td>1419.40</td>\n",
       "      <td>No</td>\n",
       "      <td>5306</td>\n",
       "      <td>&gt; 5 Year</td>\n",
       "    </tr>\n",
       "    <tr>\n",
       "      <th>7039</th>\n",
       "      <td>6840-RESVB</td>\n",
       "      <td>Adelanto</td>\n",
       "      <td>Male</td>\n",
       "      <td>No</td>\n",
       "      <td>Yes</td>\n",
       "      <td>24</td>\n",
       "      <td>Multiple Lines</td>\n",
       "      <td>DSL</td>\n",
       "      <td>One year</td>\n",
       "      <td>84.80</td>\n",
       "      <td>1990.50</td>\n",
       "      <td>No</td>\n",
       "      <td>2140</td>\n",
       "      <td>1-2 Year</td>\n",
       "    </tr>\n",
       "    <tr>\n",
       "      <th>7040</th>\n",
       "      <td>2234-XADUH</td>\n",
       "      <td>Amboy</td>\n",
       "      <td>Female</td>\n",
       "      <td>No</td>\n",
       "      <td>Yes</td>\n",
       "      <td>72</td>\n",
       "      <td>Multiple Lines</td>\n",
       "      <td>Fiber optic</td>\n",
       "      <td>One year</td>\n",
       "      <td>103.20</td>\n",
       "      <td>7362.90</td>\n",
       "      <td>No</td>\n",
       "      <td>5560</td>\n",
       "      <td>&gt; 5 Year</td>\n",
       "    </tr>\n",
       "    <tr>\n",
       "      <th>7041</th>\n",
       "      <td>4801-JZAZL</td>\n",
       "      <td>Angelus Oaks</td>\n",
       "      <td>Female</td>\n",
       "      <td>No</td>\n",
       "      <td>Yes</td>\n",
       "      <td>11</td>\n",
       "      <td>No</td>\n",
       "      <td>DSL</td>\n",
       "      <td>Month-to-month</td>\n",
       "      <td>29.60</td>\n",
       "      <td>346.45</td>\n",
       "      <td>No</td>\n",
       "      <td>2793</td>\n",
       "      <td>&lt; 1 Year</td>\n",
       "    </tr>\n",
       "    <tr>\n",
       "      <th>7042</th>\n",
       "      <td>3186-AJIEK</td>\n",
       "      <td>Apple Valley</td>\n",
       "      <td>Male</td>\n",
       "      <td>No</td>\n",
       "      <td>No</td>\n",
       "      <td>66</td>\n",
       "      <td>Single Line</td>\n",
       "      <td>Fiber optic</td>\n",
       "      <td>Two year</td>\n",
       "      <td>105.65</td>\n",
       "      <td>6844.50</td>\n",
       "      <td>No</td>\n",
       "      <td>5097</td>\n",
       "      <td>&gt; 5 Year</td>\n",
       "    </tr>\n",
       "  </tbody>\n",
       "</table>\n",
       "<p>7043 rows × 14 columns</p>\n",
       "</div>"
      ],
      "text/plain": [
       "     customer_id          city  gender senior_citizen dependents  \\\n",
       "0     3668-QPYBK   Los Angeles    Male             No         No   \n",
       "1     9237-HQITU   Los Angeles  Female             No        Yes   \n",
       "2     9305-CDSKC   Los Angeles  Female             No        Yes   \n",
       "3     7892-POOKP   Los Angeles  Female             No        Yes   \n",
       "4     0280-XJGEX   Los Angeles    Male             No        Yes   \n",
       "...          ...           ...     ...            ...        ...   \n",
       "7038  2569-WGERO       Landers  Female             No         No   \n",
       "7039  6840-RESVB      Adelanto    Male             No        Yes   \n",
       "7040  2234-XADUH         Amboy  Female             No        Yes   \n",
       "7041  4801-JZAZL  Angelus Oaks  Female             No        Yes   \n",
       "7042  3186-AJIEK  Apple Valley    Male             No         No   \n",
       "\n",
       "      tenure_months   phone_service internet_service        contract  \\\n",
       "0                 2     Single Line              DSL  Month-to-month   \n",
       "1                 2     Single Line      Fiber optic  Month-to-month   \n",
       "2                 8  Multiple Lines      Fiber optic  Month-to-month   \n",
       "3                28  Multiple Lines      Fiber optic  Month-to-month   \n",
       "4                49  Multiple Lines      Fiber optic  Month-to-month   \n",
       "...             ...             ...              ...             ...   \n",
       "7038             72     Single Line               No        Two year   \n",
       "7039             24  Multiple Lines              DSL        One year   \n",
       "7040             72  Multiple Lines      Fiber optic        One year   \n",
       "7041             11              No              DSL  Month-to-month   \n",
       "7042             66     Single Line      Fiber optic        Two year   \n",
       "\n",
       "      monthly_charges  total_charges churn_label  cltv tenure_group  \n",
       "0               53.85         108.15         Yes  3239     < 1 Year  \n",
       "1               70.70         151.65         Yes  2701     < 1 Year  \n",
       "2               99.65         820.50         Yes  5372     < 1 Year  \n",
       "3              104.80        3046.05         Yes  5003     2-4 Year  \n",
       "4              103.70        5036.30         Yes  5340     4-5 Year  \n",
       "...               ...            ...         ...   ...          ...  \n",
       "7038            21.15        1419.40          No  5306     > 5 Year  \n",
       "7039            84.80        1990.50          No  2140     1-2 Year  \n",
       "7040           103.20        7362.90          No  5560     > 5 Year  \n",
       "7041            29.60         346.45          No  2793     < 1 Year  \n",
       "7042           105.65        6844.50          No  5097     > 5 Year  \n",
       "\n",
       "[7043 rows x 14 columns]"
      ]
     },
     "execution_count": 176,
     "metadata": {},
     "output_type": "execute_result"
    }
   ],
   "source": [
    "data"
   ]
  },
  {
   "cell_type": "code",
   "execution_count": 173,
   "metadata": {
    "ExecuteTime": {
     "end_time": "2020-06-04T05:43:21.693492Z",
     "start_time": "2020-06-04T05:43:21.625675Z"
    }
   },
   "outputs": [
    {
     "data": {
      "text/html": [
       "<div>\n",
       "<style scoped>\n",
       "    .dataframe tbody tr th:only-of-type {\n",
       "        vertical-align: middle;\n",
       "    }\n",
       "\n",
       "    .dataframe tbody tr th {\n",
       "        vertical-align: top;\n",
       "    }\n",
       "\n",
       "    .dataframe thead th {\n",
       "        text-align: right;\n",
       "    }\n",
       "</style>\n",
       "<table border=\"1\" class=\"dataframe\">\n",
       "  <thead>\n",
       "    <tr style=\"text-align: right;\">\n",
       "      <th></th>\n",
       "      <th></th>\n",
       "      <th>churn_label</th>\n",
       "      <th>No</th>\n",
       "      <th>Yes</th>\n",
       "    </tr>\n",
       "    <tr>\n",
       "      <th>gender</th>\n",
       "      <th>senior_citizen</th>\n",
       "      <th>dependents</th>\n",
       "      <th></th>\n",
       "      <th></th>\n",
       "    </tr>\n",
       "  </thead>\n",
       "  <tbody>\n",
       "    <tr>\n",
       "      <th rowspan=\"4\" valign=\"top\">Female</th>\n",
       "      <th rowspan=\"2\" valign=\"top\">No</th>\n",
       "      <th>No</th>\n",
       "      <td>21.482323</td>\n",
       "      <td>9.200625</td>\n",
       "    </tr>\n",
       "    <tr>\n",
       "      <th>Yes</th>\n",
       "      <td>10.052534</td>\n",
       "      <td>0.724123</td>\n",
       "    </tr>\n",
       "    <tr>\n",
       "      <th rowspan=\"2\" valign=\"top\">Yes</th>\n",
       "      <th>No</th>\n",
       "      <td>4.231151</td>\n",
       "      <td>3.279852</td>\n",
       "    </tr>\n",
       "    <tr>\n",
       "      <th>Yes</th>\n",
       "      <td>0.425955</td>\n",
       "      <td>0.127786</td>\n",
       "    </tr>\n",
       "    <tr>\n",
       "      <th rowspan=\"4\" valign=\"top\">Male</th>\n",
       "      <th rowspan=\"2\" valign=\"top\">No</th>\n",
       "      <th>No</th>\n",
       "      <td>21.794690</td>\n",
       "      <td>9.243220</td>\n",
       "    </tr>\n",
       "    <tr>\n",
       "      <th>Yes</th>\n",
       "      <td>10.677268</td>\n",
       "      <td>0.610535</td>\n",
       "    </tr>\n",
       "    <tr>\n",
       "      <th rowspan=\"2\" valign=\"top\">Yes</th>\n",
       "      <th>No</th>\n",
       "      <td>4.358938</td>\n",
       "      <td>3.308249</td>\n",
       "    </tr>\n",
       "    <tr>\n",
       "      <th>Yes</th>\n",
       "      <td>0.440153</td>\n",
       "      <td>0.042595</td>\n",
       "    </tr>\n",
       "  </tbody>\n",
       "</table>\n",
       "</div>"
      ],
      "text/plain": [
       "churn_label                              No       Yes\n",
       "gender senior_citizen dependents                     \n",
       "Female No             No          21.482323  9.200625\n",
       "                      Yes         10.052534  0.724123\n",
       "       Yes            No           4.231151  3.279852\n",
       "                      Yes          0.425955  0.127786\n",
       "Male   No             No          21.794690  9.243220\n",
       "                      Yes         10.677268  0.610535\n",
       "       Yes            No           4.358938  3.308249\n",
       "                      Yes          0.440153  0.042595"
      ]
     },
     "execution_count": 173,
     "metadata": {},
     "output_type": "execute_result"
    }
   ],
   "source": [
    "## Your code here\n",
    "demographic_churn=pd.crosstab(\n",
    "    index=[data['gender'],data['senior_citizen'],data['dependents']],\n",
    "    columns =data['churn_label'],\n",
    "    normalize=True\n",
    ")*100\n",
    "demographic_churn"
   ]
  },
  {
   "cell_type": "code",
   "execution_count": 172,
   "metadata": {
    "ExecuteTime": {
     "end_time": "2020-06-04T05:42:43.342785Z",
     "start_time": "2020-06-04T05:42:42.890457Z"
    },
    "scrolled": true
   },
   "outputs": [
    {
     "data": {
      "image/png": "[encoded data removed]",
      "text/plain": [
       "<Figure size 576x432 with 1 Axes>"
      ]
     },
     "metadata": {
      "needs_background": "light"
     },
     "output_type": "display_data"
    }
   ],
   "source": [
    "ax = demographic_churn.plot(kind = 'barh', color=['#53a4b1','#c34454'], figsize=(8, 6), stacked=True)\n",
    "label=['Single Adult Woman', 'Adult Woman w/ Family', 'Single Senior Woman', 'Senior Woman w/ Family','Single Adult Man', 'Adult Man w/ Family', 'Single Senior Man', 'Senior Man w/ Family']\n",
    "\n",
    "# Plot Configuration\n",
    "ax.xaxis.set_major_formatter(mtick.PercentFormatter())\n",
    "plt.axes().get_xaxis().set_label_text('')\n",
    "plt.axes().get_yaxis().set_label_text('segment')\n",
    "plt.xticks(rotation = 360)\n",
    "plt.legend(['Retain', 'Churn'],fancybox=True,shadow=True)\n",
    "plt.title('Churn Rate by Customer Demographic')\n",
    "ax.set_yticklabels(label)\n",
    "plt.grid()"
   ]
  },
  {
   "cell_type": "markdown",
   "metadata": {},
   "source": [
    "### CLTV by Demographic"
   ]
  },
  {
   "cell_type": "code",
   "execution_count": 180,
   "metadata": {
    "ExecuteTime": {
     "end_time": "2020-06-04T06:12:44.027173Z",
     "start_time": "2020-06-04T06:12:43.628724Z"
    }
   },
   "outputs": [
    {
     "data": {
      "image/png": "[encoded data removed]",
      "text/plain": [
       "<Figure size 720x432 with 1 Axes>"
      ]
     },
     "metadata": {
      "needs_background": "light"
     },
     "output_type": "display_data"
    }
   ],
   "source": [
    "demographic_cltv=pd.crosstab(\n",
    "    index=[data['gender'],data['senior_citizen'],data['dependents']],\n",
    "    columns ='',\n",
    "    values=data['cltv'],\n",
    "    aggfunc='mean'\n",
    ")\n",
    "\n",
    "ax = demographic_cltv.plot(kind = 'barh', color=['#c34454'], figsize=(10, 6))\n",
    "label=['Single Adult Woman', 'Adult Woman w/ Family', 'Single Senior Woman', 'Senior Woman w/ Family','Single Adult Man', 'Adult Man w/ Family', 'Single Senior Man', 'Senior Man w/ Family']\n",
    "\n",
    "# Plot Configuration\n",
    "plt.axes().get_xaxis().set_label_text('')\n",
    "plt.legend('')\n",
    "plt.axes().get_yaxis().set_label_text('segment')\n",
    "plt.xticks(rotation = 360)\n",
    "plt.title('CLTV by Customer Demographic')\n",
    "plt.grid()\n",
    "ax.set_yticklabels(label)\n",
    "plt.grid()"
   ]
  },
  {
   "cell_type": "code",
   "execution_count": null,
   "metadata": {},
   "outputs": [],
   "source": []
  }
 ],
 "metadata": {
  "hide_input": false,
  "kernelspec": {
   "display_name": "capstone",
   "language": "python",
   "name": "capstone"
  },
  "language_info": {
   "codemirror_mode": {
    "name": "ipython",
    "version": 3
   },
   "file_extension": ".py",
   "mimetype": "text/x-python",
   "name": "python",
   "nbconvert_exporter": "python",
   "pygments_lexer": "ipython3",
   "version": "3.7.7"
  },
  "latex_envs": {
   "LaTeX_envs_menu_present": true,
   "autoclose": false,
   "autocomplete": true,
   "bibliofile": "biblio.bib",
   "cite_by": "apalike",
   "current_citInitial": 1,
   "eqLabelWithNumbers": true,
   "eqNumInitial": 1,
   "hotkeys": {
    "equation": "Ctrl-E",
    "itemize": "Ctrl-I"
   },
   "labels_anchors": false,
   "latex_user_defs": false,
   "report_style_numbering": false,
   "user_envs_cfg": false
  },
  "toc": {
   "base_numbering": 1,
   "nav_menu": {},
   "number_sections": true,
   "sideBar": true,
   "skip_h1_title": false,
   "title_cell": "Table of Contents",
   "title_sidebar": "Contents",
   "toc_cell": false,
   "toc_position": {
    "height": "calc(100% - 180px)",
    "left": "10px",
    "top": "150px",
    "width": "284.261px"
   },
   "toc_section_display": true,
   "toc_window_display": true
  },
  "varInspector": {
   "cols": {
    "lenName": 16,
    "lenType": 16,
    "lenVar": 40
   },
   "kernels_config": {
    "python": {
     "delete_cmd_postfix": "",
     "delete_cmd_prefix": "del ",
     "library": "var_list.py",
     "varRefreshCmd": "print(var_dic_list())"
    },
    "r": {
     "delete_cmd_postfix": ") ",
     "delete_cmd_prefix": "rm(",
     "library": "var_list.r",
     "varRefreshCmd": "cat(var_dic_list()) "
    }
   },
   "types_to_exclude": [
    "module",
    "function",
    "builtin_function_or_method",
    "instance",
    "_Feature"
   ],
   "window_display": false
  }
 },
 "nbformat": 4,
 "nbformat_minor": 4
}
